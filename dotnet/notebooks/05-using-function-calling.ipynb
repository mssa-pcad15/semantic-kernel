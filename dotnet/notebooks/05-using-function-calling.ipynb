{
 "cells": [
  {
   "attachments": {},
   "cell_type": "markdown",
   "metadata": {},
   "source": [
    "# Introduction to the Function Calling\n",
    "\n",
    "The most powerful feature of chat completion is the ability to call functions from the model. This allows you to create a chat bot that can interact with your existing code, making it possible to automate business processes, create code snippets, and more.\n",
    "\n",
    "With Semantic Kernel, we simplify the process of using function calling by automatically describing your functions and their parameters to the model and then handling the back-and-forth communication between the model and your code.\n",
    "\n",
    "Read more about it [here](https://learn.microsoft.com/en-us/semantic-kernel/concepts/ai-services/chat-completion/function-calling)."
   ]
  },
  {
   "cell_type": "code",
   "execution_count": 1,
   "metadata": {
    "dotnet_interactive": {
     "language": "csharp"
    },
    "polyglot_notebook": {
     "kernelName": "csharp"
    }
   },
   "outputs": [
    {
     "data": {
      "text/html": [
       "<div><div></div><div></div><div><strong>Installed Packages</strong><ul><li><span>Microsoft.SemanticKernel, 1.23.0</span></li></ul></div></div>"
      ]
     },
     "metadata": {},
     "output_type": "display_data"
    }
   ],
   "source": [
    "#r \"nuget: Microsoft.SemanticKernel, 1.23.0\"\n",
    "\n",
    "#!import config/Settings.cs\n",
    "#!import config/Utils.cs\n",
    "\n",
    "using Microsoft.SemanticKernel;\n",
    "using Microsoft.SemanticKernel.Connectors.OpenAI;\n",
    "using Kernel = Microsoft.SemanticKernel.Kernel;\n",
    "\n",
    "var builder = Kernel.CreateBuilder();\n",
    "\n",
    "// Configure AI backend used by the kernel\n",
    "var (useAzureOpenAI, model, azureEndpoint, apiKey, orgId) = Settings.LoadFromFile();\n",
    "\n",
    "if (useAzureOpenAI)\n",
    "    builder.AddAzureOpenAIChatCompletion(model, azureEndpoint, apiKey);\n",
    "else\n",
    "    builder.AddOpenAIChatCompletion(model, apiKey, orgId);\n",
    "\n",
    "var kernel = builder.Build();"
   ]
  },
  {
   "attachments": {},
   "cell_type": "markdown",
   "metadata": {},
   "source": [
    "### Setting Up Execution Settings"
   ]
  },
  {
   "cell_type": "markdown",
   "metadata": {},
   "source": [
    "Using `FunctionChoiceBehavior.Auto()` will enable automatic function calling. There are also other options like `Required` or `None` which allow to control function calling behavior. More information about it can be found [here](https://learn.microsoft.com/en-gb/semantic-kernel/concepts/ai-services/chat-completion/function-calling/function-choice-behaviors?pivots=programming-language-csharp)."
   ]
  },
  {
   "cell_type": "code",
   "execution_count": 2,
   "metadata": {
    "dotnet_interactive": {
     "language": "csharp"
    },
    "polyglot_notebook": {
     "kernelName": "csharp"
    }
   },
   "outputs": [],
   "source": [
    "#pragma warning disable SKEXP0001\n",
    "\n",
    "OpenAIPromptExecutionSettings openAIPromptExecutionSettings = new() \n",
    "{\n",
    "    FunctionChoiceBehavior = FunctionChoiceBehavior.Auto()\n",
    "};"
   ]
  },
  {
   "attachments": {},
   "cell_type": "markdown",
   "metadata": {},
   "source": [
    "### Providing plugins to the Kernel\n",
    "Function calling needs an information about available plugins/functions. Here we'll import the `SummarizePlugin` and `WriterPlugin` we have defined on disk."
   ]
  },
  {
   "cell_type": "code",
   "execution_count": 3,
   "metadata": {
    "dotnet_interactive": {
     "language": "csharp"
    },
    "polyglot_notebook": {
     "kernelName": "csharp"
    }
   },
   "outputs": [],
   "source": [
    "var pluginsDirectory = Path.Combine(System.IO.Directory.GetCurrentDirectory(), \"..\", \"..\", \"prompt_template_samples\");\n",
    "\n",
    "kernel.ImportPluginFromPromptDirectory(Path.Combine(pluginsDirectory, \"SummarizePlugin\"));\n",
    "kernel.ImportPluginFromPromptDirectory(Path.Combine(pluginsDirectory, \"WriterPlugin\"));"
   ]
  },
  {
   "attachments": {},
   "cell_type": "markdown",
   "metadata": {},
   "source": [
    "Define your ASK. What do you want the Kernel to do?"
   ]
  },
  {
   "cell_type": "code",
   "execution_count": 4,
   "metadata": {
    "dotnet_interactive": {
     "language": "csharp"
    },
    "polyglot_notebook": {
     "kernelName": "csharp"
    }
   },
   "outputs": [],
   "source": [
    "var ask = \"Tomorrow is Valentine's day. I need to come up with a few date ideas. My significant other likes poems so write them in the form of a poem.\";"
   ]
  },
  {
   "attachments": {},
   "cell_type": "markdown",
   "metadata": {},
   "source": [
    "Since we imported available plugins to Kernel and defined the ask, we can now invoke a prompt with all the provided information. \n",
    "\n",
    "We can run function calling with Kernel, if we are interested in result only."
   ]
  },
  {
   "cell_type": "code",
   "execution_count": 5,
   "metadata": {
    "dotnet_interactive": {
     "language": "csharp"
    },
    "polyglot_notebook": {
     "kernelName": "csharp"
    }
   },
   "outputs": [
    {
     "name": "stdout",
     "output_type": "stream",
     "text": [
      "Here are some delightful date ideas for Valentine's Day, presented in poetic form:\n",
      "\n",
      "1. **Moonlit Stroll**\n",
      "   On a moonlit stroll, hand in hand,  \n",
      "   We tripped on the sand, oh so grand!  \n",
      "   With a serenade sweet,  \n",
      "   I stepped on a beet,  \n",
      "   And now I’m the star of the band!  \n",
      "\n",
      "2. **Cozy Dinner**\n",
      "   In a cozy nook, just us two,  \n",
      "   With candlelight flickering, oh what a view!  \n",
      "   We shared a fine meal,  \n",
      "   But oh, what a deal—  \n",
      "   The pasta was stuck, like glue on my shoe!  \n",
      "   With laughter we chewed, what a sight,  \n",
      "   Our hearts felt so light, everything's right.\n",
      "\n",
      "3. **Painting Class**\n",
      "   In a class where the colors ran wild,  \n",
      "   We painted like each was a child.  \n",
      "   With splatters and drips,  \n",
      "   And some funny quips,  \n",
      "   Our canvases looked quite beguiled!  \n",
      "\n",
      "4. **Picnic in the Park**\n",
      "   In the park where the sun shines so bright,  \n",
      "   We spread out our blanket, what a sight!  \n",
      "   With sandwiches stacked,  \n",
      "   And a squirrel who snacked,  \n",
      "   On our chips, he declared, “This is right!”  \n",
      "   We giggled and shared all our dreams,  \n",
      "   While dodging the ants’ silly schemes.\n",
      "\n",
      "5. **Movie Night**\n",
      "   On a night wrapped in quilt, snug and tight,  \n",
      "   We gathered for films, what a sight!  \n",
      "   With popcorn galore,  \n",
      "   And laughter that soared,  \n",
      "   Our hearts spilled like butter—oh, what a delight!  \n",
      "   The movie was cheesy, the plot full of holes,  \n",
      "   But wrapped in your love, it fulfilled all my goals.\n",
      "\n",
      "These ideas blend romance and creativity, perfect for a memorable Valentine's Day!\n"
     ]
    }
   ],
   "source": [
    "var result = await kernel.InvokePromptAsync(ask, new(openAIPromptExecutionSettings));\n",
    "\n",
    "Console.WriteLine(result);"
   ]
  },
  {
   "cell_type": "markdown",
   "metadata": {},
   "source": [
    "But we can also run it with `IChatCompletionService` to have an access to `ChatHistory` object, which allows us to see which functions were called as part of a function calling process. Note that passing a Kernel as a parameter to `GetChatMessageContentAsync` method is required, since Kernel holds an information about available plugins."
   ]
  },
  {
   "cell_type": "code",
   "execution_count": 6,
   "metadata": {
    "dotnet_interactive": {
     "language": "csharp"
    },
    "polyglot_notebook": {
     "kernelName": "csharp"
    }
   },
   "outputs": [
    {
     "name": "stdout",
     "output_type": "stream",
     "text": [
      "Result: Here are some charming date ideas for Valentine’s Day, each expressed in poetic form:\n",
      "\n",
      "1. **Candle-lit Dinner**:\n",
      "   In a garden where fireflies dance,  \n",
      "   Two lovers sat lost in romance.  \n",
      "   With candles aglow,  \n",
      "   And a soft, gentle flow,  \n",
      "   Till the soup spilled—oh, what a mischance!  \n",
      "\n",
      "2. **Sunset Hike**:\n",
      "   On a hill where the sunsets glow,  \n",
      "   We hiked hand in hand, nice and slow.  \n",
      "   But my shoe had a tear,  \n",
      "   And I tripped on a hare,  \n",
      "   Now I’m rolling down, yelling “Whoa!”  \n",
      "\n",
      "3. **Art Session**:\n",
      "   In a studio filled with cheer,  \n",
      "   We splashed paint without any fear.  \n",
      "   With a brush in my hand,  \n",
      "   I made a big band,  \n",
      "   But it looked more like a cow in a sphere!  \n",
      "\n",
      "4. **Cozy Movie Night**:\n",
      "   In a blanket fort snug and tight,  \n",
      "   We settled in for a movie night.  \n",
      "   With popcorn galore,  \n",
      "   And a snack attack score,  \n",
      "   But the cat stole our bowl—what a fright!  \n",
      "\n",
      "Feel free to choose any of these ideas to make your Valentine's Day special!\n",
      "\n",
      "Chat history: [{\"Role\":{\"Label\":\"user\"},\"Items\":[{\"$type\":\"TextContent\",\"Text\":\"Tomorrow is Valentine\\u0027s day. I need to come up with a few date ideas. My significant other likes poems so write them in the form of a poem.\"}]},{\"Role\":{\"Label\":\"Assistant\"},\"Items\":[{\"$type\":\"FunctionCallContent\",\"Id\":\"call_lA2yMkjGcALTaYyGLepwyoXK\",\"PluginName\":\"WriterPlugin\",\"FunctionName\":\"ShortPoem\",\"Arguments\":{\"input\":\"A candle-lit dinner under a starlit sky, with whispered sweet nothings as the night drifts by.\"}}],\"ModelId\":\"gpt-4o-mini\",\"Metadata\":{\"Id\":\"chatcmpl-AqB4aOZSReJI8i0YFA2UxxHDLF8A7\",\"CreatedAt\":\"2025-01-16T03:43:04+00:00\",\"SystemFingerprint\":\"fp_f3927aa00d\",\"Usage\":{\"OutputTokenCount\":41,\"InputTokenCount\":862,\"TotalTokenCount\":903,\"OutputTokenDetails\":{\"ReasoningTokenCount\":0}},\"Refusal\":null,\"FinishReason\":\"ToolCalls\",\"ContentTokenLogProbabilities\":[],\"ChatResponseMessage.FunctionToolCalls\":[{\"Kind\":0,\"FunctionName\":\"WriterPlugin-ShortPoem\",\"FunctionArguments\":{},\"Id\":\"call_lA2yMkjGcALTaYyGLepwyoXK\"}]}},{\"Role\":{\"Label\":\"tool\"},\"Items\":[{\"$type\":\"TextContent\",\"Text\":\"In a garden where fireflies dance,  \\nTwo lovers sat lost in romance.  \\nWith candles aglow,  \\nAnd a soft, gentle flow,  \\nTill the soup spilled\\u2014oh, what a mischance!  \\n\\nThey whispered sweet nothings, so dear,  \\nBut the waiter was lurking\"},{\"$type\":\"FunctionResultContent\",\"CallId\":\"call_lA2yMkjGcALTaYyGLepwyoXK\",\"PluginName\":\"WriterPlugin\",\"FunctionName\":\"ShortPoem\",\"Result\":\"In a garden where fireflies dance,  \\nTwo lovers sat lost in romance.  \\nWith candles aglow,  \\nAnd a soft, gentle flow,  \\nTill the soup spilled\\u2014oh, what a mischance!  \\n\\nThey whispered sweet nothings, so dear,  \\nBut the waiter was lurking\"}]},{\"Role\":{\"Label\":\"Assistant\"},\"Items\":[{\"$type\":\"FunctionCallContent\",\"Id\":\"call_2YlZAzvwku4dWw8T8IEPZtWz\",\"PluginName\":\"WriterPlugin\",\"FunctionName\":\"ShortPoem\",\"Arguments\":{\"input\":\"A sunset hike up a tranquil hill, hand in hand, with nature\\u0027s beauty giving hearts a thrill.\"}},{\"$type\":\"FunctionCallContent\",\"Id\":\"call_aExW09zdVYtGfFpJzZ47fyYG\",\"PluginName\":\"WriterPlugin\",\"FunctionName\":\"ShortPoem\",\"Arguments\":{\"input\":\"Creating art together, a canvas so bright, colors and laughter, sharing pure delight.\"}},{\"$type\":\"FunctionCallContent\",\"Id\":\"call_QFBzz3hdiXSMzfRcCMPQqeTb\",\"PluginName\":\"WriterPlugin\",\"FunctionName\":\"ShortPoem\",\"Arguments\":{\"input\":\"A cozy movie night at home, with popcorn to share, wrapped in each other\\u0027s arms, without a care.\"}}],\"ModelId\":\"gpt-4o-mini\",\"Metadata\":{\"Id\":\"chatcmpl-AqB4cYHW1EAAl0sBLF6bJrFX3G9Qm\",\"CreatedAt\":\"2025-01-16T03:43:06+00:00\",\"SystemFingerprint\":\"fp_f3927aa00d\",\"Usage\":{\"OutputTokenCount\":127,\"InputTokenCount\":975,\"TotalTokenCount\":1102,\"OutputTokenDetails\":{\"ReasoningTokenCount\":0}},\"Refusal\":null,\"FinishReason\":\"ToolCalls\",\"ContentTokenLogProbabilities\":[],\"ChatResponseMessage.FunctionToolCalls\":[{\"Kind\":0,\"FunctionName\":\"WriterPlugin-ShortPoem\",\"FunctionArguments\":{},\"Id\":\"call_2YlZAzvwku4dWw8T8IEPZtWz\"},{\"Kind\":0,\"FunctionName\":\"WriterPlugin-ShortPoem\",\"FunctionArguments\":{},\"Id\":\"call_aExW09zdVYtGfFpJzZ47fyYG\"},{\"Kind\":0,\"FunctionName\":\"WriterPlugin-ShortPoem\",\"FunctionArguments\":{},\"Id\":\"call_QFBzz3hdiXSMzfRcCMPQqeTb\"}]}},{\"Role\":{\"Label\":\"tool\"},\"Items\":[{\"$type\":\"TextContent\",\"Text\":\"On a hill where the sunsets glow,  \\nWe hiked hand in hand, nice and slow.  \\nBut my shoe had a tear,  \\nAnd I tripped on a hare,  \\nNow I\\u2019m rolling down, yelling \\u201CWhoa!\\u201D  \\n\\nThe sunset was stunning, it\\u2019s true,  \\nBut\"},{\"$type\":\"FunctionResultContent\",\"CallId\":\"call_2YlZAzvwku4dWw8T8IEPZtWz\",\"PluginName\":\"WriterPlugin\",\"FunctionName\":\"ShortPoem\",\"Result\":\"On a hill where the sunsets glow,  \\nWe hiked hand in hand, nice and slow.  \\nBut my shoe had a tear,  \\nAnd I tripped on a hare,  \\nNow I\\u2019m rolling down, yelling \\u201CWhoa!\\u201D  \\n\\nThe sunset was stunning, it\\u2019s true,  \\nBut\"}]},{\"Role\":{\"Label\":\"tool\"},\"Items\":[{\"$type\":\"TextContent\",\"Text\":\"In a studio filled with cheer,  \\nWe splashed paint without any fear,  \\nWith a brush in my hand,  \\nI made a big band,  \\nBut it looked more like a cow in a sphere!  \\n\\nWe giggled and mixed every hue,  \\nAs my friend turned her cat into\"},{\"$type\":\"FunctionResultContent\",\"CallId\":\"call_aExW09zdVYtGfFpJzZ47fyYG\",\"PluginName\":\"WriterPlugin\",\"FunctionName\":\"ShortPoem\",\"Result\":\"In a studio filled with cheer,  \\nWe splashed paint without any fear,  \\nWith a brush in my hand,  \\nI made a big band,  \\nBut it looked more like a cow in a sphere!  \\n\\nWe giggled and mixed every hue,  \\nAs my friend turned her cat into\"}]},{\"Role\":{\"Label\":\"tool\"},\"Items\":[{\"$type\":\"TextContent\",\"Text\":\"In a blanket fort snug and tight,  \\nWe settled in for a movie night,  \\nWith popcorn galore,  \\nAnd a snack attack score,  \\nBut the cat stole our bowl\\u2014what a fright!  \\n\\nWe laughed as we tried to reclaim,  \\nOur buttery treasure, oh what a shame\"},{\"$type\":\"FunctionResultContent\",\"CallId\":\"call_QFBzz3hdiXSMzfRcCMPQqeTb\",\"PluginName\":\"WriterPlugin\",\"FunctionName\":\"ShortPoem\",\"Result\":\"In a blanket fort snug and tight,  \\nWe settled in for a movie night,  \\nWith popcorn galore,  \\nAnd a snack attack score,  \\nBut the cat stole our bowl\\u2014what a fright!  \\n\\nWe laughed as we tried to reclaim,  \\nOur buttery treasure, oh what a shame\"}]}]\n",
      "\n"
     ]
    }
   ],
   "source": [
    "using Microsoft.SemanticKernel.ChatCompletion;\n",
    "\n",
    "var chatCompletionService = kernel.GetRequiredService<IChatCompletionService>();\n",
    "\n",
    "var chatHistory = new ChatHistory();\n",
    "\n",
    "chatHistory.AddUserMessage(ask);\n",
    "\n",
    "var chatCompletionResult = await chatCompletionService.GetChatMessageContentAsync(chatHistory, openAIPromptExecutionSettings, kernel);\n",
    "\n",
    "Console.WriteLine($\"Result: {chatCompletionResult}\\n\");\n",
    "Console.WriteLine($\"Chat history: {JsonSerializer.Serialize(chatHistory)}\\n\");"
   ]
  }
 ],
 "metadata": {
  "kernelspec": {
   "display_name": ".NET (C#)",
   "language": "C#",
   "name": ".net-csharp"
  },
  "language_info": {
   "name": "polyglot-notebook"
  },
  "polyglot_notebook": {
   "kernelInfo": {
    "defaultKernelName": "csharp",
    "items": [
     {
      "aliases": [],
      "name": "csharp"
     }
    ]
   }
  }
 },
 "nbformat": 4,
 "nbformat_minor": 2
}
