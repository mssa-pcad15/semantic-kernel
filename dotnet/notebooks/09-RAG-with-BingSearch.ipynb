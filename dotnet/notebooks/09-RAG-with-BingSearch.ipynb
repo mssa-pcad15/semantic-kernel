{
 "cells": [
  {
   "attachments": {},
   "cell_type": "markdown",
   "metadata": {},
   "source": [
    "# RAG with BingSearch \n",
    "\n",
    "This notebook explains how to integrate Bing Search with the Semantic Kernel  to get the latest information from the internet.\n",
    "\n",
    "To use Bing Search you simply need a Bing Search API key. You can get the API key by creating a [Bing Search resource](https://learn.microsoft.com/en-us/bing/search-apis/bing-web-search/create-bing-search-service-resource) in Azure. \n",
    "\n",
    "To learn more read the following [documentation](https://learn.microsoft.com/en-us/bing/search-apis/bing-web-search/overview).\n"
   ]
  },
  {
   "attachments": {},
   "cell_type": "markdown",
   "metadata": {},
   "source": [
    "Prepare a Semantic Kernel instance first, loading also the AI backend settings defined in the [Setup notebook](0-AI-settings.ipynb):"
   ]
  },
  {
   "cell_type": "code",
   "execution_count": 1,
   "metadata": {
    "dotnet_interactive": {
     "language": "csharp"
    },
    "polyglot_notebook": {
     "kernelName": "csharp"
    }
   },
   "outputs": [
    {
     "data": {
      "text/html": [
       "<div><div></div><div></div><div><strong>Installed Packages</strong><ul><li><span>Microsoft.SemanticKernel, 1.23.0</span></li><li><span>Microsoft.SemanticKernel.Plugins.Core, 1.23.0-alpha</span></li><li><span>Microsoft.SemanticKernel.Plugins.Web, 1.23.0-alpha</span></li><li><span>Microsoft.SemanticKernel.PromptTemplates.Handlebars, 1.23.0</span></li></ul></div></div>"
      ]
     },
     "metadata": {},
     "output_type": "display_data"
    }
   ],
   "source": [
    "#r \"nuget: Microsoft.SemanticKernel, 1.23.0\"\n",
    "#r \"nuget: Microsoft.SemanticKernel.Plugins.Web, 1.23.0-alpha\"\n",
    "#r \"nuget: Microsoft.SemanticKernel.Plugins.Core, 1.23.0-alpha\"\n",
    "#r \"nuget: Microsoft.SemanticKernel.PromptTemplates.Handlebars, 1.23.0-alpha\"\n",
    "\n",
    "#!import config/Settings.cs\n",
    "#!import config/Utils.cs"
   ]
  },
  {
   "attachments": {},
   "cell_type": "markdown",
   "metadata": {},
   "source": [
    "Enter your Bing Search Key in BING_KEY using `InteractiveKernel` method as introduced in [`.NET Interactive`](https://github.com/dotnet/interactive/blob/main/docs/kernels-overview.md)"
   ]
  },
  {
   "cell_type": "code",
   "execution_count": 4,
   "metadata": {
    "dotnet_interactive": {
     "language": "csharp"
    },
    "polyglot_notebook": {
     "kernelName": "csharp"
    }
   },
   "outputs": [],
   "source": [
    "using InteractiveKernel = Microsoft.DotNet.Interactive.Kernel;\n",
    "\n",
    "string BING_KEY = (await InteractiveKernel.GetPasswordAsync(\"Please enter your Bing Search Key\")).GetClearTextPassword();"
   ]
  },
  {
   "cell_type": "markdown",
   "metadata": {},
   "source": [
    "## Basic search plugin\n",
    "\n",
    "The sample below shows how to create a plugin named SearchPlugin from an instance of `BingTextSearch`. Using `CreateWithSearch` creates a new plugin with a single Search function that calls the underlying text search implementation. The SearchPlugin is added to the Kernel which makes it available to be called during prompt rendering. The prompt template includes a call to `{{SearchPlugin.Search $query}}` which will invoke the SearchPlugin to retrieve results related to the current query. The results are then inserted into the rendered prompt before it is sent to the AI model."
   ]
  },
  {
   "cell_type": "code",
   "execution_count": 5,
   "metadata": {
    "dotnet_interactive": {
     "language": "csharp"
    },
    "polyglot_notebook": {
     "kernelName": "csharp"
    }
   },
   "outputs": [
    {
     "name": "stdout",
     "output_type": "stream",
     "text": [
      "The Semantic Kernel is a framework developed by Microsoft designed to facilitate the integration of AI capabilities, particularly large language models (LLMs), into applications. It aims to enable developers to leverage these AI models for a variety of tasks, such as natural language understanding, generation, and processing, while also providing tools for managing and orchestrating the interactions with AI systems.\n",
      "\n",
      "Key features of the Semantic Kernel include:\n",
      "\n",
      "1. **AI Orchestration**: It helps in managing interactions between different AI components and services, allowing for complex workflows that can involve multiple AI models.\n",
      "\n",
      "2. **Plugins**: The framework supports the integration of custom plugins, allowing developers to extend the functionality and tailor the AI behavior to specific use cases.\n",
      "\n",
      "3. **Memory Management**: It allows for the retention of context over interactions, enabling more coherent and contextually aware responses from AI models.\n",
      "\n",
      "4. **Integration**: The Semantic Kernel can be used with various programming languages and frameworks, making it versatile for different development environments.\n",
      "\n",
      "5. **Prompt Engineering**: The framework emphasizes prompt engineering, which involves crafting effective prompts to elicit desired responses from LLMs.\n",
      "\n",
      "In summary, the Semantic Kernel serves as a bridge for developers to effectively implement and manage AI capabilities within their applications, enhancing user experiences through advanced AI interaction.\n"
     ]
    }
   ],
   "source": [
    "using Microsoft.SemanticKernel;\n",
    "using Microsoft.SemanticKernel.Data;\n",
    "using Microsoft.SemanticKernel.Plugins.Web.Bing;\n",
    "using Kernel = Microsoft.SemanticKernel.Kernel;\n",
    "\n",
    "// Create a kernel with OpenAI chat completion\n",
    "var builder = Kernel.CreateBuilder();\n",
    "\n",
    "// Configure AI backend used by the kernel\n",
    "var (useAzureOpenAI, model, azureEndpoint, apiKey, orgId) = Settings.LoadFromFile();\n",
    "if (useAzureOpenAI)\n",
    "    builder.AddAzureOpenAIChatCompletion(model, azureEndpoint, apiKey);\n",
    "else\n",
    "    builder.AddOpenAIChatCompletion(model, apiKey, orgId);\n",
    "var kernel = builder.Build();\n",
    "\n",
    "// Create a text search using Bing search\n",
    "#pragma warning disable SKEXP0050\n",
    "var textSearch = new BingTextSearch(apiKey: BING_KEY);\n",
    "\n",
    "// Build a text search plugin with Bing search and add to the kernel\n",
    "var searchPlugin = textSearch.CreateWithSearch(\"SearchPlugin\");\n",
    "kernel.Plugins.Add(searchPlugin);\n",
    "\n",
    "// Invoke prompt and use text search plugin to provide grounding information\n",
    "var query = \"What is the Semantic Kernel?\";\n",
    "var prompt = \"{{SearchPlugin.Search $query}}. {{$query}}\";\n",
    "KernelArguments arguments = new() { { \"query\", query } };\n",
    "Console.WriteLine(await kernel.InvokePromptAsync(prompt, arguments));"
   ]
  },
  {
   "cell_type": "markdown",
   "metadata": {},
   "source": [
    "## Search plugin with citations\n",
    "\n",
    "The sample below repeats the pattern described in the previous section with a few notable changes:\n",
    "\n",
    "1. `CreateWithGetTextSearchResults` is used to create a `SearchPlugin` which calls the `GetTextSearchResults` method from the underlying text search implementation.\n",
    "2. The prompt template uses Handlebars syntax. This allows the template to iterate over the search results and render the name, value and link for each result.\n",
    "3. The prompt includes an instruction to include citations, so the AI model will do the work of adding citations to the response."
   ]
  },
  {
   "cell_type": "code",
   "execution_count": 6,
   "metadata": {
    "dotnet_interactive": {
     "language": "csharp"
    },
    "polyglot_notebook": {
     "kernelName": "csharp"
    }
   },
   "outputs": [
    {
     "name": "stdout",
     "output_type": "stream",
     "text": [
      "The Semantic Kernel is a middleware framework developed by Microsoft that integrates Large Language Models (LLMs) with existing APIs and functions. It operates by translating requests made by AI models into function calls within your codebase, allowing the model to leverage existing code actions and return results back to the model for final output generation. Essentially, it facilitates the interaction between AI models and software functions, enabling them to work together seamlessly.\n",
      "\n",
      "When a request is made to the Semantic Kernel, it marshals that request to the appropriate function and manages the interactions required for the LLM to generate a coherent response based on the outputs from the function calls (Microsoft Learn, \"Introduction to Semantic Kernel\"). The framework also includes a setup process to establish execution settings that enable automatic function calling, ensuring that the model effectively interacts with the functions in the codebase (Microsoft Learn, \"How to quickly start with Semantic Kernel\").\n",
      "\n",
      "For more detailed information, you can refer to the following resources:\n",
      "- [Introduction to Semantic Kernel | Microsoft Learn](https://learn.microsoft.com/en-us/semantic-kernel/overview/)\n",
      "- [How to quickly start with Semantic Kernel | Microsoft Learn](https://learn.microsoft.com/en-us/semantic-kernel/get-started/quick-start-guide)\n"
     ]
    }
   ],
   "source": [
    "using Microsoft.SemanticKernel;\n",
    "using Microsoft.SemanticKernel.Data;\n",
    "using Microsoft.SemanticKernel.Plugins.Web.Bing;\n",
    "using Microsoft.SemanticKernel.PromptTemplates.Handlebars;\n",
    "using Kernel = Microsoft.SemanticKernel.Kernel;\n",
    "\n",
    "// Create a kernel with OpenAI chat completion\n",
    "var builder = Kernel.CreateBuilder();\n",
    "\n",
    "// Configure AI backend used by the kernel\n",
    "var (useAzureOpenAI, model, azureEndpoint, apiKey, orgId) = Settings.LoadFromFile();\n",
    "if (useAzureOpenAI)\n",
    "    builder.AddAzureOpenAIChatCompletion(model, azureEndpoint, apiKey);\n",
    "else\n",
    "    builder.AddOpenAIChatCompletion(model, apiKey, orgId);\n",
    "var kernel = builder.Build();\n",
    "\n",
    "// Create a text search using Bing search\n",
    "#pragma warning disable SKEXP0050\n",
    "var textSearch = new BingTextSearch(apiKey: BING_KEY);\n",
    "\n",
    "// Build a text search plugin with Bing search and add to the kernel\n",
    "var searchPlugin = textSearch.CreateWithGetTextSearchResults(\"SearchPlugin\");\n",
    "kernel.Plugins.Add(searchPlugin);\n",
    "\n",
    "// Invoke prompt and use text search plugin to provide grounding information\n",
    "var query = \"What is the Semantic Kernel?\";\n",
    "string promptTemplate = \"\"\"\n",
    "{{#with (SearchPlugin-GetTextSearchResults query)}}  \n",
    "    {{#each this}}  \n",
    "    Name: {{Name}}\n",
    "    Value: {{Value}}\n",
    "    Link: {{Link}}\n",
    "    -----------------\n",
    "    {{/each}}  \n",
    "{{/with}}  \n",
    "\n",
    "{{query}}\n",
    "\n",
    "Include citations to the relevant information where it is referenced in the response.\n",
    "\"\"\";\n",
    "KernelArguments arguments = new() { { \"query\", query } };\n",
    "HandlebarsPromptTemplateFactory promptTemplateFactory = new();\n",
    "Console.WriteLine(await kernel.InvokePromptAsync(\n",
    "    promptTemplate,\n",
    "    arguments,\n",
    "    templateFormat: HandlebarsPromptTemplateFactory.HandlebarsTemplateFormat,\n",
    "    promptTemplateFactory: promptTemplateFactory\n",
    "));"
   ]
  },
  {
   "cell_type": "markdown",
   "metadata": {},
   "source": [
    "## Search plugin with a filter\n",
    "\n",
    "The samples shown so far will use the top ranked web search results to provide the grounding data. To provide more reliability in the data the web search can be restricted to only return results from a specified site.\n",
    "\n",
    "The sample below builds on the previous one to add filtering of the search results.\n",
    "A `TextSearchFilter` with an equality clause is used to specify that only results from the Microsoft Developer Blogs site (`site == 'devblogs.microsoft.com'`) are to be included in the search results.\n",
    "\n",
    "The sample uses `KernelPluginFactory.CreateFromFunctions` to create the `SearchPlugin`.\n",
    "A custom description is provided for the plugin.\n",
    "The `ITextSearch.CreateGetTextSearchResults` extension method is used to create the `KernelFunction` which invokes the text search service."
   ]
  },
  {
   "cell_type": "code",
   "execution_count": 7,
   "metadata": {
    "dotnet_interactive": {
     "language": "csharp"
    },
    "polyglot_notebook": {
     "kernelName": "csharp"
    }
   },
   "outputs": [
    {
     "name": "stdout",
     "output_type": "stream",
     "text": [
      "The Semantic Kernel is a production-ready software development kit (SDK) designed to integrate large language models (LLMs) and data stores into applications, thereby enabling the creation of product-scale generative AI (GenAI) solutions. It is an open-source library that aids developers in building AI solutions that can also call existing code, making it highly extensible. The Semantic Kernel supports multiple programming languages, including C#, Python, and Java, which allows for wide applicability across different development environments (Microsoft’s Agentic AI Frameworks: AutoGen and Semantic Kernel, 1).\n",
      "\n",
      "One of the key features of the Semantic Kernel is its ability to utilize plugins. This functionality allows user requests to be combined with available plugins, enhancing the overall capability of applications built using the SDK. For example, user requests can be processed by agents that communicate with the Semantic Kernel, leveraging the power of plugins and defined personas (Architecting AI Apps with Semantic Kernel, 2). \n",
      "\n",
      "For developers working with .NET, the Semantic Kernel provides a specific extension method called `AddKernel()` for the `IServiceCollection` interface, enabling easy configuration and integration into dependency injection (DI) containers (How to Get Started using Semantic Kernel .NET, 3). This focus on extensibility and integration makes it a suitable choice for developers looking to create complex AI applications.\n",
      "\n",
      "For more information about the Semantic Kernel and how to get started, you can visit the links to the relevant articles:\n",
      "\n",
      "1. [Microsoft’s Agentic AI Frameworks: AutoGen and Semantic Kernel](https://devblogs.microsoft.com/semantic-kernel/microsofts-agentic-ai-frameworks-autogen-and-semantic-kernel/)\n",
      "2. [Architecting AI Apps with Semantic Kernel](https://devblogs.microsoft.com/semantic-kernel/architecting-ai-apps-with-semantic-kernel/)\n",
      "3. [How to Get Started using Semantic Kernel .NET](https://devblogs.microsoft.com/semantic-kernel/how-to-get-started-using-semantic-kernel-net/)\n"
     ]
    }
   ],
   "source": [
    "using Microsoft.SemanticKernel;\n",
    "using Microsoft.SemanticKernel.Data;\n",
    "using Microsoft.SemanticKernel.PromptTemplates.Handlebars;\n",
    "using Microsoft.SemanticKernel.Plugins.Web.Bing;\n",
    "\n",
    "// Create a kernel with OpenAI chat completion\n",
    "var builder = Kernel.CreateBuilder();\n",
    "\n",
    "// Configure AI backend used by the kernel\n",
    "var (useAzureOpenAI, model, azureEndpoint, apiKey, orgId) = Settings.LoadFromFile();\n",
    "if (useAzureOpenAI)\n",
    "    builder.AddAzureOpenAIChatCompletion(model, azureEndpoint, apiKey);\n",
    "else\n",
    "    builder.AddOpenAIChatCompletion(model, apiKey, orgId);\n",
    "var kernel = builder.Build();\n",
    "\n",
    "// Create a text search using Bing search\n",
    "#pragma warning disable SKEXP0050\n",
    "var textSearch = new BingTextSearch(apiKey: BING_KEY);\n",
    "\n",
    "// Create a filter to search only the Microsoft Developer Blogs site\n",
    "#pragma warning disable SKEXP0001\n",
    "var filter = new TextSearchFilter().Equality(\"site\", \"devblogs.microsoft.com\");\n",
    "var searchOptions = new TextSearchOptions() { Filter = filter };\n",
    "\n",
    "// Build a text search plugin with Bing search and add to the kernel\n",
    "var searchPlugin = KernelPluginFactory.CreateFromFunctions(\n",
    "    \"SearchPlugin\", \"Search Microsoft Developer Blogs site only\",\n",
    "    [textSearch.CreateGetTextSearchResults(searchOptions: searchOptions)]);\n",
    "kernel.Plugins.Add(searchPlugin);\n",
    "\n",
    "// Invoke prompt and use text search plugin to provide grounding information\n",
    "var query = \"What is the Semantic Kernel?\";\n",
    "string promptTemplate = \"\"\"\n",
    "{{#with (SearchPlugin-GetTextSearchResults query)}}  \n",
    "    {{#each this}}  \n",
    "    Name: {{Name}}\n",
    "    Value: {{Value}}\n",
    "    Link: {{Link}}\n",
    "    -----------------\n",
    "    {{/each}}  \n",
    "{{/with}}  \n",
    "\n",
    "{{query}}\n",
    "\n",
    "Include citations to the relevant information where it is referenced in the response.\n",
    "\"\"\";\n",
    "KernelArguments arguments = new() { { \"query\", query } };\n",
    "HandlebarsPromptTemplateFactory promptTemplateFactory = new();\n",
    "Console.WriteLine(await kernel.InvokePromptAsync(\n",
    "    promptTemplate,\n",
    "    arguments,\n",
    "    templateFormat: HandlebarsPromptTemplateFactory.HandlebarsTemplateFormat,\n",
    "    promptTemplateFactory: promptTemplateFactory\n",
    "));\n"
   ]
  }
 ],
 "metadata": {
  "kernelspec": {
   "display_name": ".NET (C#)",
   "language": "C#",
   "name": ".net-csharp"
  },
  "language_info": {
   "name": "polyglot-notebook"
  },
  "orig_nbformat": 4,
  "polyglot_notebook": {
   "kernelInfo": {
    "defaultKernelName": "csharp",
    "items": [
     {
      "aliases": [],
      "name": "csharp"
     }
    ]
   }
  }
 },
 "nbformat": 4,
 "nbformat_minor": 2
}
